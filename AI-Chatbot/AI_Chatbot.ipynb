{
  "nbformat": 4,
  "nbformat_minor": 0,
  "metadata": {
    "colab": {
      "provenance": []
    },
    "kernelspec": {
      "name": "python3",
      "display_name": "Python 3"
    },
    "language_info": {
      "name": "python"
    }
  },
  "cells": [
    {
      "cell_type": "code",
      "execution_count": 1,
      "metadata": {
        "id": "tUNg0XI7iCnF"
      },
      "outputs": [],
      "source": [
        "import nltk\n",
        "import random\n",
        "from nltk.chat.util import Chat, reflections"
      ]
    },
    {
      "cell_type": "code",
      "source": [
        "from nltk.chat.util import Chat, reflections"
      ],
      "metadata": {
        "id": "csISqgRWif98"
      },
      "execution_count": 3,
      "outputs": []
    },
    {
      "cell_type": "code",
      "source": [
        "# Define patterns and responses for the chatbot\n",
        "patterns = [\n",
        "    (r'hi|hello|hey', ['Hello!', 'Hi there!', 'Hey!',]),\n",
        "    (r'how are you|how\\'s it going', ['I\\'m just a chatbot, but I\\'m doing fine!',]),\n",
        "    (r'what is your name|who are you', ['I am an AI chatbot.',]),\n",
        "    (r'bye|goodbye', ['Goodbye!', 'See you later!', 'Bye!',]),\n",
        "    (r'(.*)', ['I\\'m not sure I understand.', 'Can you please rephrase that?',]),\n",
        "]"
      ],
      "metadata": {
        "id": "HYMODPdcii6-"
      },
      "execution_count": 4,
      "outputs": []
    },
    {
      "cell_type": "code",
      "source": [
        "# Create a chatbot with the defined patterns\n",
        "chatbot = Chat(patterns, reflections)"
      ],
      "metadata": {
        "id": "ZzmWRWluijxh"
      },
      "execution_count": 5,
      "outputs": []
    },
    {
      "cell_type": "code",
      "source": [
        "# Main loop to interact with the user\n",
        "print(\"Chatbot: Hi! How can I help you today?\")\n",
        "while True:\n",
        "    user_input = input(\"You: \")\n",
        "    if user_input.lower() == 'exit':\n",
        "        print(\"Chatbot: Goodbye!\")\n",
        "        break\n",
        "    response = chatbot.respond(user_input)\n",
        "    print(\"Chatbot:\", response)\n"
      ],
      "metadata": {
        "colab": {
          "base_uri": "https://localhost:8080/"
        },
        "id": "jfO61ockiv6u",
        "outputId": "c955f8a9-605e-45d0-a1cc-ad843d8ee9de"
      },
      "execution_count": null,
      "outputs": [
        {
          "output_type": "stream",
          "name": "stdout",
          "text": [
            "Chatbot: Hi! How can I help you today?\n",
            "You: hey\n",
            "Chatbot: Hello!\n",
            "You: who are you\n",
            "Chatbot: I am an AI chatbot.\n",
            "You: goodbye\n",
            "Chatbot: Goodbye!\n"
          ]
        }
      ]
    }
  ]
}